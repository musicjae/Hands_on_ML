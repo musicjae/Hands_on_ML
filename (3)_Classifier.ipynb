{
  "nbformat": 4,
  "nbformat_minor": 0,
  "metadata": {
    "colab": {
      "name": "(3) Classifier.ipynb",
      "provenance": [],
      "collapsed_sections": [],
      "toc_visible": true,
      "authorship_tag": "ABX9TyMh+tZer8kjaSfAFTfNym4W",
      "include_colab_link": true
    },
    "kernelspec": {
      "name": "python3",
      "display_name": "Python 3"
    }
  },
  "cells": [
    {
      "cell_type": "markdown",
      "metadata": {
        "id": "view-in-github",
        "colab_type": "text"
      },
      "source": [
        "<a href=\"https://colab.research.google.com/github/musicjae/Hands_on_ML/blob/master/(3)_Classifier.ipynb\" target=\"_parent\"><img src=\"https://colab.research.google.com/assets/colab-badge.svg\" alt=\"Open In Colab\"/></a>"
      ]
    },
    {
      "cell_type": "code",
      "metadata": {
        "id": "kJBThID21bRl",
        "colab_type": "code",
        "colab": {
          "resources": {
            "http://localhost:8080/nbextensions/google.colab/files.js": {
              "data": "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",
              "ok": true,
              "headers": [
                [
                  "content-type",
                  "application/javascript"
                ]
              ],
              "status": 200,
              "status_text": ""
            }
          },
          "base_uri": "https://localhost:8080/",
          "height": 90
        },
        "outputId": "4204b32d-208c-491f-b2ef-77ef3c6955e2"
      },
      "source": [
        "from google.colab import files\n",
        "uploaded = files.upload() # 파일 업로드 기능 실행\n",
        "\n",
        "for fn in uploaded.keys(): # 업로드된 파일 정보 출력\n",
        "    print('User uploaded file \"{name}\" with length {length} bytes'.format(\n",
        "        name=fn, length=len(uploaded[fn])))"
      ],
      "execution_count": null,
      "outputs": [
        {
          "output_type": "display_data",
          "data": {
            "text/html": [
              "\n",
              "     <input type=\"file\" id=\"files-7de20687-90c4-4c7a-82a6-5a0ea53161f4\" name=\"files[]\" multiple disabled\n",
              "        style=\"border:none\" />\n",
              "     <output id=\"result-7de20687-90c4-4c7a-82a6-5a0ea53161f4\">\n",
              "      Upload widget is only available when the cell has been executed in the\n",
              "      current browser session. Please rerun this cell to enable.\n",
              "      </output>\n",
              "      <script src=\"/nbextensions/google.colab/files.js\"></script> "
            ],
            "text/plain": [
              "<IPython.core.display.HTML object>"
            ]
          },
          "metadata": {
            "tags": []
          }
        },
        {
          "output_type": "stream",
          "text": [
            "Saving a1.png to a1.png\n",
            "User uploaded file \"a1.png\" with length 64129 bytes\n"
          ],
          "name": "stdout"
        }
      ]
    },
    {
      "cell_type": "code",
      "metadata": {
        "id": "qCXqoH731b3Q",
        "colab_type": "code",
        "colab": {}
      },
      "source": [
        "from IPython.display import Image"
      ],
      "execution_count": null,
      "outputs": []
    },
    {
      "cell_type": "markdown",
      "metadata": {
        "id": "U6np16KVon88",
        "colab_type": "text"
      },
      "source": [
        "# 3.1 MNIST  \n",
        "  \n",
        "이것은 여러 사람들이 직접 손으로 쓴 7 만 개의 작은 숫자 이미지를 모은 데이터이다. 이것의 크기는 (70,000, 784) 이고, 또한 이것은 이미Trainig set과 Test set을 6:1 로 나누어 두었다."
      ]
    },
    {
      "cell_type": "code",
      "metadata": {
        "id": "s0Aad2O1oiyB",
        "colab_type": "code",
        "colab": {
          "base_uri": "https://localhost:8080/",
          "height": 34
        },
        "outputId": "15a09c82-61ff-41ac-c112-7eeb52b40c6e"
      },
      "source": [
        "from sklearn.datasets import fetch_openml\n",
        "\n",
        "mnist = fetch_openml('mnist_784', version = 1)\n",
        "mnist.keys() # 9 개의 keys 가 있다."
      ],
      "execution_count": null,
      "outputs": [
        {
          "output_type": "execute_result",
          "data": {
            "text/plain": [
              "dict_keys(['data', 'target', 'frame', 'feature_names', 'target_names', 'DESCR', 'details', 'categories', 'url'])"
            ]
          },
          "metadata": {
            "tags": []
          },
          "execution_count": 64
        }
      ]
    },
    {
      "cell_type": "code",
      "metadata": {
        "id": "sXIFmWykph4Q",
        "colab_type": "code",
        "colab": {
          "base_uri": "https://localhost:8080/",
          "height": 51
        },
        "outputId": "9de53514-a82f-4c02-ed57-35bfde5f6c7a"
      },
      "source": [
        "X, y = mnist[\"data\"], mnist[\"target\"]\n",
        "print(X.shape) # 7만 개의 이미지가 있고 784 개의 features가 있다.\n",
        "print(y.shape)"
      ],
      "execution_count": null,
      "outputs": [
        {
          "output_type": "stream",
          "text": [
            "(70000, 784)\n",
            "(70000,)\n"
          ],
          "name": "stdout"
        }
      ]
    },
    {
      "cell_type": "code",
      "metadata": {
        "id": "OPK4UD92pR7e",
        "colab_type": "code",
        "colab": {
          "base_uri": "https://localhost:8080/",
          "height": 265
        },
        "outputId": "c448111a-d1ec-4773-a8c2-503fad23cbd4"
      },
      "source": [
        "import matplotlib.pyplot as plt\n",
        "import matplotlib as mpl\n",
        "\n",
        "some_digit = X[0]\n",
        "some_digit_image = some_digit.reshape(28,28)\n",
        "\n",
        "plt.imshow(some_digit_image, cmap=\"binary\")\n",
        "plt.axis(\"off\")\n",
        "plt.show"
      ],
      "execution_count": null,
      "outputs": [
        {
          "output_type": "execute_result",
          "data": {
            "text/plain": [
              "<function matplotlib.pyplot.show>"
            ]
          },
          "metadata": {
            "tags": []
          },
          "execution_count": 66
        },
        {
          "output_type": "display_data",
          "data": {
            "image/png": "[encoded data removed]",
            "text/plain": [
              "<Figure size 432x288 with 1 Axes>"
            ]
          },
          "metadata": {
            "tags": [],
            "needs_background": "light"
          }
        }
      ]
    },
    {
      "cell_type": "code",
      "metadata": {
        "id": "pYpQze9YqFC0",
        "colab_type": "code",
        "colab": {
          "base_uri": "https://localhost:8080/",
          "height": 34
        },
        "outputId": "d0967292-c259-4e7c-8698-ecb6031d1f82"
      },
      "source": [
        "# 실제 레이블 확인해보자:\n",
        "print(y[0], y.astype)"
      ],
      "execution_count": null,
      "outputs": [
        {
          "output_type": "stream",
          "text": [
            "5 <built-in method astype of numpy.ndarray object at 0x7f446683d5d0>\n"
          ],
          "name": "stdout"
        }
      ]
    },
    {
      "cell_type": "code",
      "metadata": {
        "id": "eOp9_aDSqfcI",
        "colab_type": "code",
        "colab": {
          "base_uri": "https://localhost:8080/",
          "height": 34
        },
        "outputId": "6de8c22f-c508-434e-b9c9-387a1b065d47"
      },
      "source": [
        "import numpy as np\n",
        "\n",
        "y= y.astype(np.uint8)\n",
        "print(y.astype)"
      ],
      "execution_count": null,
      "outputs": [
        {
          "output_type": "stream",
          "text": [
            "<built-in method astype of numpy.ndarray object at 0x7fab3fcc1080>\n"
          ],
          "name": "stdout"
        }
      ]
    },
    {
      "cell_type": "markdown",
      "metadata": {
        "id": "nGElBwzoqypK",
        "colab_type": "text"
      },
      "source": [
        "## 테스트셋, 트레이닝 셋 분류"
      ]
    },
    {
      "cell_type": "code",
      "metadata": {
        "id": "OecyLVtrq3g4",
        "colab_type": "code",
        "colab": {
          "base_uri": "https://localhost:8080/",
          "height": 85
        },
        "outputId": "9dabfa99-5b46-4cf2-8527-355d555da36a"
      },
      "source": [
        "X_train, X_test, y_train, y_test = X[:60000], X[60000:], y[:60000],y[60000:]\n",
        "print(X_train[:3])\n",
        "print(y_test[:3])"
      ],
      "execution_count": null,
      "outputs": [
        {
          "output_type": "stream",
          "text": [
            "[[0. 0. 0. ... 0. 0. 0.]\n",
            " [0. 0. 0. ... 0. 0. 0.]\n",
            " [0. 0. 0. ... 0. 0. 0.]]\n",
            "[7 2 1]\n"
          ],
          "name": "stdout"
        }
      ]
    },
    {
      "cell_type": "markdown",
      "metadata": {
        "id": "RttVfbzHrO9N",
        "colab_type": "text"
      },
      "source": [
        "MNIST에서는 이미 훈련 세트가 섞여 있다. 따라서 모든 교차 검증 폴드를 비슷하게 만든다.  \n",
        "  \n",
        "- Training set을 섞는 이유: 어떤 알고리즘은 훈련 샘플 순서에 민감해서, 많은 유사한 샘플이 **연이어** 나타나면 성능이 나빠진다. ==> 이것을 해결하기 위해 훈련 샘플을 섞는 것이다. **반면에** 시계열 데이터를 다룰 때에는 섞는 것은 좋지 않다."
      ]
    },
    {
      "cell_type": "markdown",
      "metadata": {
        "id": "64oTDS19rl5G",
        "colab_type": "text"
      },
      "source": [
        "# 3.2 Binary Classifier Training  \n",
        "  \n",
        "어떤 훈련 샘플에 대하여 '5임', '5가 아님' 이렇게 두 개의 클래스로만 구분해주는 분류기"
      ]
    },
    {
      "cell_type": "code",
      "metadata": {
        "id": "BRFxpKZBsSM9",
        "colab_type": "code",
        "colab": {
          "base_uri": "https://localhost:8080/",
          "height": 51
        },
        "outputId": "bf94ed88-0a87-4cd4-8813-ed989cb2992b"
      },
      "source": [
        "## 실험을 위해 타깃 벡터를 만들어 보자. 아래에서 만들 학습된 모델은 이 타깃 벡터를 가지고서 평가될 것이다.\n",
        "\n",
        "y_train_5 = (y_train ==5)\n",
        "y_test_5 = (y_test == 5)\n",
        "\n",
        "print(y_train_5[0:3])\n",
        "print(y_test_5[0:3])"
      ],
      "execution_count": null,
      "outputs": [
        {
          "output_type": "stream",
          "text": [
            "[ True False False]\n",
            "[False False False]\n"
          ],
          "name": "stdout"
        }
      ]
    },
    {
      "cell_type": "markdown",
      "metadata": {
        "id": "s8URVEJGr0k1",
        "colab_type": "text"
      },
      "source": [
        "여기서 SGD를 사용해보자. [장점] 이것은 **큰** **데이터셋을** 효율적으로 처리하게 해준다. 왜냐하면 이것은 1 iter 당 1 개의 샘플을 **독립적으로** 처리한다."
      ]
    },
    {
      "cell_type": "code",
      "metadata": {
        "id": "5HAuK8x1sDdv",
        "colab_type": "code",
        "colab": {
          "base_uri": "https://localhost:8080/",
          "height": 119
        },
        "outputId": "61ca9092-4650-4b57-a755-dd4893cc75c2"
      },
      "source": [
        "from sklearn.linear_model import SGDClassifier\n",
        "\n",
        "sgd_clf = SGDClassifier(random_state=42) # 무작위성 사용 --> 확률적\n",
        "sgd_clf.fit(X_train, y_train_5)\n",
        "\n",
        "# SGD는 훈련하는 데 randomness를 사용한다. 그래서 '확률적'이라는 이름이 붙은 것이다."
      ],
      "execution_count": null,
      "outputs": [
        {
          "output_type": "execute_result",
          "data": {
            "text/plain": [
              "SGDClassifier(alpha=0.0001, average=False, class_weight=None,\n",
              "              early_stopping=False, epsilon=0.1, eta0=0.0, fit_intercept=True,\n",
              "              l1_ratio=0.15, learning_rate='optimal', loss='hinge',\n",
              "              max_iter=1000, n_iter_no_change=5, n_jobs=None, penalty='l2',\n",
              "              power_t=0.5, random_state=42, shuffle=True, tol=0.001,\n",
              "              validation_fraction=0.1, verbose=0, warm_start=False)"
            ]
          },
          "metadata": {
            "tags": []
          },
          "execution_count": 86
        }
      ]
    },
    {
      "cell_type": "code",
      "metadata": {
        "id": "SsV8eq5qtJOg",
        "colab_type": "code",
        "colab": {
          "base_uri": "https://localhost:8080/",
          "height": 34
        },
        "outputId": "8186a981-e11b-482d-cf65-b8143fe3c14d"
      },
      "source": [
        "sgd_clf.predict([some_digit]) # some_digit = X[0] 임을 기억하라. 그러면 아래가 참인 것을 받아들일 수 있을 것이다."
      ],
      "execution_count": null,
      "outputs": [
        {
          "output_type": "execute_result",
          "data": {
            "text/plain": [
              "array([ True])"
            ]
          },
          "metadata": {
            "tags": []
          },
          "execution_count": 87
        }
      ]
    },
    {
      "cell_type": "markdown",
      "metadata": {
        "id": "8wvZ2ZNxtTYu",
        "colab_type": "text"
      },
      "source": [
        "# 3.3 성능 측정 (분류기 평가)"
      ]
    },
    {
      "cell_type": "markdown",
      "metadata": {
        "id": "AL7Sa508tXGE",
        "colab_type": "text"
      },
      "source": [
        "### [1] 교차 검증  \n",
        "  \n",
        "폴드가 3 개인 k겹 교차 검증을 사용하여 SGDClassifier 모델을 평가해보자."
      ]
    },
    {
      "cell_type": "code",
      "metadata": {
        "id": "w_YgZaoKtimB",
        "colab_type": "code",
        "colab": {
          "base_uri": "https://localhost:8080/",
          "height": 139
        },
        "outputId": "61dc6d19-7086-4122-f997-47b00f09873b"
      },
      "source": [
        "from sklearn.model_selection import StratifiedKFold\n",
        "from sklearn.base import clone # 원본을 상하게 하지 않기 위해 도입\n",
        "import time\n",
        "\n",
        "skfolds = StratifiedKFold(n_splits=3, random_state=42) # 클래스 별 비율이 유지되도록 폴드를 만들게 하기 위해, Stratified Sampling 사용\n",
        "start = time.time()\n",
        "for train_idx, test_idx in skfolds.split(X_train, y_train_5): # 훈련 시 사용할 샘플들과, 훈련 시 사용할 y==5를 만족하는 참 레이블 샘플로 split\n",
        "\n",
        "    clone_clf = clone(sgd_clf) # 위에서 만든 sgd분류기 복사\n",
        "\n",
        "    X_train_folds = X_train[train_idx] # 훈련 idx가 순회하면서 X 훈련 샘플을 각 fold에 저장\n",
        "    y_train_folds = y_train_5[train_idx] # 동일\n",
        "\n",
        "    X_test_fold = X_train[test_idx] # 테스트 idx가 순회하면서 X 훈련 샘플을 각 fold에 저장\n",
        "    y_test_fold = y_train_5[test_idx]\n",
        "\n",
        "    clone_clf.fit(X_train_folds, y_train_folds) # 복제한 분류기를 위에서 만든 folds를 이용하여 fitting 해준다.\n",
        "    y_pred = clone_clf.predict(X_test_fold) # 예측값은 X_test_fold 가지고 구한다.\n",
        "    n_correct = sum(y_pred == y_test_fold) # 양측이 일치할 때에만 더해준다.\n",
        "    \n",
        "    print(n_correct/len(y_pred)*100,'%') # 정답 비율 구하기\n",
        "end=time.time()\n",
        "\n",
        "print(end-start,'sec')"
      ],
      "execution_count": null,
      "outputs": [
        {
          "output_type": "stream",
          "text": [
            "/usr/local/lib/python3.6/dist-packages/sklearn/model_selection/_split.py:296: FutureWarning: Setting a random_state has no effect since shuffle is False. This will raise an error in 0.24. You should leave random_state to its default (None), or set shuffle=True.\n",
            "  FutureWarning\n"
          ],
          "name": "stderr"
        },
        {
          "output_type": "stream",
          "text": [
            "95.035 %\n",
            "96.035 %\n",
            "96.04 %\n",
            "32.95583486557007 sec\n"
          ],
          "name": "stdout"
        }
      ]
    },
    {
      "cell_type": "code",
      "metadata": {
        "id": "Lklmw1m6wLt_",
        "colab_type": "code",
        "colab": {
          "base_uri": "https://localhost:8080/",
          "height": 85
        },
        "outputId": "a67051fa-d867-4e8a-c8c5-c015c3f5bbcf"
      },
      "source": [
        "# 교차 검증 함수 사용\n",
        "\n",
        "from sklearn.model_selection import cross_val_score\n",
        "import time\n",
        "\n",
        "start=time.time()\n",
        "a=cross_val_score(sgd_clf, X_train, y_train_5, cv=3, scoring=\"accuracy\")\n",
        "\n",
        "for i in range(3):\n",
        "\n",
        "    print(a[i]*100,'%')\n",
        "\n",
        "end=time.time()\n",
        "print(end-start,'sec')\n"
      ],
      "execution_count": null,
      "outputs": [
        {
          "output_type": "stream",
          "text": [
            "95.035 %\n",
            "96.035 %\n",
            "96.04 %\n",
            "31.620858430862427 sec\n"
          ],
          "name": "stdout"
        }
      ]
    },
    {
      "cell_type": "markdown",
      "metadata": {
        "id": "-qjmcb9exkg2",
        "colab_type": "text"
      },
      "source": [
        "-  함수 사용 여부는 소요 시간 측면에서 큰 차이는 없는 것 같다.\n",
        "  \n",
        "- 하지만 불균형한 데이터셋을 다룰 때 특히 이 **정확도**은 분류기의 성능 측정 지표로 선호되지 않는다."
      ]
    },
    {
      "cell_type": "markdown",
      "metadata": {
        "id": "rslASj-RxsXU",
        "colab_type": "text"
      },
      "source": [
        "## [2] 오차 행렬 confusion matrix  \n",
        "  \n",
        "Basic idea:  \n",
        "  \n",
        "Count:   \n",
        "  \n",
        "sample 'a' in the Class A ----classify----> Class B  \n",
        "  \n",
        "Otherwise:  \n",
        "  \n",
        "No count"
      ]
    },
    {
      "cell_type": "markdown",
      "metadata": {
        "id": "UFX9X7i-C8MY",
        "colab_type": "text"
      },
      "source": [
        "cross_val_predict는 k겹 교차검증 수행 but 이것은 __score와는 다르게 (평가 점수 반환 x) 단지 각 테스트 폴드에서 얻은 예측만을 반환."
      ]
    },
    {
      "cell_type": "code",
      "metadata": {
        "id": "ZwOwXjmfyRuT",
        "colab_type": "code",
        "colab": {}
      },
      "source": [
        "from sklearn.model_selection import cross_val_predict\n",
        "\n",
        "y_train_pred = cross_val_predict(sgd_clf,X_train,y_train_5,cv=3) "
      ],
      "execution_count": null,
      "outputs": []
    },
    {
      "cell_type": "code",
      "metadata": {
        "id": "2ASo94pCzB3C",
        "colab_type": "code",
        "colab": {
          "base_uri": "https://localhost:8080/",
          "height": 34
        },
        "outputId": "1aa0da47-2c9e-42eb-8be9-fd0ed0edaae1"
      },
      "source": [
        "print(y_train_pred[:3])"
      ],
      "execution_count": null,
      "outputs": [
        {
          "output_type": "stream",
          "text": [
            "[ True False False]\n"
          ],
          "name": "stdout"
        }
      ]
    },
    {
      "cell_type": "markdown",
      "metadata": {
        "id": "ZKtzV31py3Ov",
        "colab_type": "text"
      },
      "source": [
        "위 처럼 score가 아닌 predict를 사용하면 한 번도 정답을 보지 못한 순수히 깨끗한 예측값들만을  얻을 수 있다.  \n",
        "  \n",
        "이제, 오차 행렬을 만들어보자. "
      ]
    },
    {
      "cell_type": "code",
      "metadata": {
        "id": "HScMsp49zMCP",
        "colab_type": "code",
        "colab": {
          "base_uri": "https://localhost:8080/",
          "height": 51
        },
        "outputId": "e3fb51b5-be5b-4433-e6fd-5d23b56afb60"
      },
      "source": [
        "from sklearn.metrics import confusion_matrix\n",
        "\n",
        "confusion_matrix(y_train_5, y_train_pred)"
      ],
      "execution_count": null,
      "outputs": [
        {
          "output_type": "execute_result",
          "data": {
            "text/plain": [
              "array([[53892,   687],\n",
              "       [ 1891,  3530]])"
            ]
          },
          "metadata": {
            "tags": []
          },
          "execution_count": 93
        }
      ]
    },
    {
      "cell_type": "code",
      "metadata": {
        "id": "haOzhUhE1lNh",
        "colab_type": "code",
        "colab": {
          "base_uri": "https://localhost:8080/",
          "height": 455
        },
        "outputId": "3dd5de9f-8315-43f8-e0b6-da809560c5ed"
      },
      "source": [
        "Image('a1.png',width=700)"
      ],
      "execution_count": null,
      "outputs": [
        {
          "output_type": "execute_result",
          "data": {
            "image/png": "[encoded data removed]",
            "text/plain": [
              "<IPython.core.display.Image object>"
            ]
          },
          "metadata": {
            "tags": [],
            "image/png": {
              "width": 700
            }
          },
          "execution_count": 46
        }
      ]
    },
    {
      "cell_type": "markdown",
      "metadata": {
        "id": "6xq2-g1u1q2F",
        "colab_type": "text"
      },
      "source": [
        "### 더 요약된 2 가지 지표들  \n",
        "  \n",
        "**정밀도Precision**: 양성 예측의 정확도  \n",
        "  \n",
        "$=\\frac{TP}{TP+FP}$"
      ]
    },
    {
      "cell_type": "markdown",
      "metadata": {
        "id": "Z3vJuAda1-uz",
        "colab_type": "text"
      },
      "source": [
        "한계: 정밀도는 확실한 양성 샘플 하나만 예측하면 완벽해지는데, 이는 분류기가 다른 모든 양성 샘플을 무시하기 때문에 유용하지 않다. 정밀도는 보통 **재현율recall**과 함께 사용하는 것이 일반적이다."
      ]
    },
    {
      "cell_type": "markdown",
      "metadata": {
        "id": "5-_CwQ-32PEX",
        "colab_type": "text"
      },
      "source": [
        "**재현율**: 민감도, 진짜 양성 비율TPR 이라고 불린다.  \n",
        "$=\\frac{TP}{TP+FN}$  \n",
        "  \n"
      ]
    },
    {
      "cell_type": "markdown",
      "metadata": {
        "id": "9Gz95ZnMc5vV",
        "colab_type": "text"
      },
      "source": [
        "\"즉, Precision이나 Recall은 모두 실제 True인 정답을 모델이 True라고 예측한 경우에 관심이 있으나, 바라보고자 하는 관점만 다릅니다. Precision은 모델의 입장에서, 그리고 Recall은 실제 정답(data)의 입장에서 정답을 정답이라고 맞춘 경우를 바라보고 있습니다. 다음의 경우를 생각해보겠습니다.\n",
        "\n",
        "\n",
        "\n",
        "\"어떤 요소에 의해, 확실히 맑은 날을 예측할 수 있다면 해당하는 날에만 맑은 날이라고 예측하면 되겠다.\"\n",
        "\n",
        "\n",
        "이 경우에는 확실하지 않은 날에는 아에 예측을 하지 않고 보류하여 FP의 경우의 수를 줄여, Precision을 극도로 끌어올리는 일종의 편법입니다. 예를 들어 한달 30일 동안 맑은 날이 20일이었는데, 확실한 2일만 맑다고 예측한다면, 당연히 맑다고 한 날 중에 실제 맑은 날(Precision)은 100%가 나오게 됩니다. 하지만 과연, 이러한 모델이 이상적인 모델일까요?\n",
        "\n",
        "\n",
        "따라서, 우리는 실제 맑은 20일 중에서 예측한 맑은 날의 수도 고려해 보아야합니다. 이 경우에는 Precision만큼 높은 결과가 나오지 않습니다. Precision과 함께 Recall을 함께 고려하면 실제 맑은 날들(즉, 분류의 대상이 되는 정의역, 실제 data)의 입장에서 우리의 모델이 맑다고 예측한 비율을 함께 고려하게 되어 제대로 평가할 수 있습니다. Precision과 Recall은 상호보완적으로 사용할 수 있으며, 두 지표가 모두 높을 수록 좋은 모델입니다.\"   \n",
        "  \n",
        "https://sumniya.tistory.com/26"
      ]
    },
    {
      "cell_type": "markdown",
      "metadata": {
        "id": "FYhgCwcfcSBe",
        "colab_type": "text"
      },
      "source": [
        "참고: 정확도 = $\\frac{tp+tn}{tp+tn+fp+fn}$"
      ]
    },
    {
      "cell_type": "markdown",
      "metadata": {
        "id": "rjL-yieL2ay9",
        "colab_type": "text"
      },
      "source": [
        "# 3.3 정밀도와 재현율 Precision & Recall"
      ]
    },
    {
      "cell_type": "code",
      "metadata": {
        "id": "4KCMN1oe2daj",
        "colab_type": "code",
        "colab": {
          "base_uri": "https://localhost:8080/",
          "height": 51
        },
        "outputId": "f1c37c48-a85d-4061-e86a-726b86242f7f"
      },
      "source": [
        "from sklearn.metrics import precision_score, recall_score\n",
        "\n",
        "print('정밀도:',precision_score(y_train_5,y_train_pred))\n",
        "print('재현도:',recall_score(y_train_5,y_train_pred))\n"
      ],
      "execution_count": null,
      "outputs": [
        {
          "output_type": "stream",
          "text": [
            "정밀도: 0.8370879772350012\n",
            "재현도: 0.6511713705958311\n"
          ],
          "name": "stdout"
        }
      ]
    },
    {
      "cell_type": "markdown",
      "metadata": {
        "id": "csXI46QpZyez",
        "colab_type": "text"
      },
      "source": [
        "#### F1 점수: 정밀도와 재현율의 조화평균.  \n",
        "  \n",
        "$F_1 = \\frac{2}{\\frac{1}{Precision}+\\frac{1}{Recall}}$"
      ]
    },
    {
      "cell_type": "code",
      "metadata": {
        "id": "xErDMQlrYz9h",
        "colab_type": "code",
        "colab": {
          "base_uri": "https://localhost:8080/",
          "height": 34
        },
        "outputId": "bcfd1c74-afb1-47ce-9f23-62aa5de6f528"
      },
      "source": [
        "from sklearn.metrics import f1_score  \n",
        "f1_score(y_train_5, y_train_pred)"
      ],
      "execution_count": null,
      "outputs": [
        {
          "output_type": "execute_result",
          "data": {
            "text/plain": [
              "0.7325171197343846"
            ]
          },
          "metadata": {
            "tags": []
          },
          "execution_count": 95
        }
      ]
    },
    {
      "cell_type": "markdown",
      "metadata": {
        "id": "I_MwxxpqbUyn",
        "colab_type": "text"
      },
      "source": [
        "정밀도와 재현율이 비슷할수록 F1 점수가 높게 나온다. 하지만 이것이 항상 바람직한 것은 아니다. 경우에 따라 둘 중 하나가 더 중요할 수 있다.  \n",
        "  \n",
        "[그 사례]  \n",
        "  \n",
        "- 어린이들에게 유해 동영상을 필터링해야 하는 경우는 \"좋은 동영상이 제외되더라도\" \"나쁜 동영상을 제외한, 안전한 동영상만을 노출\"시키는 것 -- 그러면 높은 정밀도가 요구돼 -- 이 더 중요하다.  \n",
        "  \n",
        "- 감시 카메라로 도둑을 잡는 경우는 실제 정답을 포착하는 것이 더 중요하므로 정밀도 보다 재현율이 더 중요시될 것이다."
      ]
    },
    {
      "cell_type": "markdown",
      "metadata": {
        "id": "EcsQcvbVj4T2",
        "colab_type": "text"
      },
      "source": [
        "# 3.4 정밀도/재현율 트레이드오프  \n",
        "  \n"
      ]
    },
    {
      "cell_type": "markdown",
      "metadata": {
        "id": "F7XlRT-5kIsb",
        "colab_type": "text"
      },
      "source": [
        "SGD분류기를 이용하여 트레이드오프를 알아보자. 이 분류기는 **결정함수decision_function**을 사용하여 *각 샘플의 점수를 계산*한다.  \n",
        "  \n",
        "if 그 점수 > 임곗값 -> 그 샘플은 positive class에 할당  \n",
        "\n",
        "otherwise -> 그 샘플은 negative class에 할당  \n",
        "  \n",
        "- 임곗값 상승 ==> 정밀도 상승 \n",
        "  \n",
        "- 임곗값 하락 ==> 재현율 상승 & 정밀도 하락"
      ]
    },
    {
      "cell_type": "code",
      "metadata": {
        "id": "xxBjtwCllAET",
        "colab_type": "code",
        "colab": {
          "base_uri": "https://localhost:8080/",
          "height": 34
        },
        "outputId": "b2ea8b51-f1cc-4fe0-e437-e69f9853fa65"
      },
      "source": [
        "y_scores = sgd_clf.decision_function([some_digit]) # 임곗값 확인\n",
        "print(y_scores)"
      ],
      "execution_count": null,
      "outputs": [
        {
          "output_type": "stream",
          "text": [
            "[2164.22030239]\n"
          ],
          "name": "stdout"
        }
      ]
    },
    {
      "cell_type": "code",
      "metadata": {
        "id": "GOa5YNzYlJiR",
        "colab_type": "code",
        "colab": {
          "base_uri": "https://localhost:8080/",
          "height": 51
        },
        "outputId": "3426e791-fcc8-4bf6-83bb-eac88a730bcf"
      },
      "source": [
        "threshold = 0\n",
        "y_some_digit_pred = (y_scores > threshold)\n",
        "print(y_some_digit_pred)\n",
        "\n",
        "threshold = 8000\n",
        "y_some_digit_pred = (y_scores > threshold)\n",
        "print(y_some_digit_pred)"
      ],
      "execution_count": null,
      "outputs": [
        {
          "output_type": "stream",
          "text": [
            "[ True]\n",
            "[False]\n"
          ],
          "name": "stdout"
        }
      ]
    },
    {
      "cell_type": "markdown",
      "metadata": {
        "id": "dE9D3030lkjD",
        "colab_type": "text"
      },
      "source": [
        "위 결과는 임곗값을 높이면 **재현율이_줄어든다**는 것을 보여준다. "
      ]
    },
    {
      "cell_type": "markdown",
      "metadata": {
        "id": "is5M4S1OmOat",
        "colab_type": "text"
      },
      "source": [
        "#### 적절한 임곗값을 정하는 방안  \n",
        "  \n",
        "아래 함수를 사용해보자."
      ]
    },
    {
      "cell_type": "markdown",
      "metadata": {
        "id": "Cw_7LTCgmiUm",
        "colab_type": "text"
      },
      "source": [
        "- 훈련 세트에 있는 모든 점수 구하기  \n",
        "   \n",
        "- 예측 점수가 아닌, 결정 점수를 반환하도록 지정"
      ]
    },
    {
      "cell_type": "code",
      "metadata": {
        "id": "K52C4ACImTl6",
        "colab_type": "code",
        "colab": {}
      },
      "source": [
        "y_scores = cross_val_predict(sgd_clf,\n",
        "                             X_train,\n",
        "                             y_train_5, # 훈련 세트에 있는 모든 점수 고려\n",
        "                             cv=3,\n",
        "                             method=\"decision_function\")  # 결정 점수 반환"
      ],
      "execution_count": null,
      "outputs": []
    },
    {
      "cell_type": "code",
      "metadata": {
        "id": "NH8TXTITDicD",
        "colab_type": "code",
        "colab": {
          "base_uri": "https://localhost:8080/",
          "height": 34
        },
        "outputId": "356877d5-fbdb-4d4f-b1d9-dc0da7492891"
      },
      "source": [
        "print(y_scores[0:3], y_train_5[0:3])"
      ],
      "execution_count": null,
      "outputs": [
        {
          "output_type": "stream",
          "text": [
            "[  1200.93051237 -26883.79202424 -33072.03475406] [ True False False]\n"
          ],
          "name": "stdout"
        }
      ]
    },
    {
      "cell_type": "code",
      "metadata": {
        "id": "zOMcutDqmtDD",
        "colab_type": "code",
        "colab": {}
      },
      "source": [
        "from sklearn.metrics import precision_recall_curve\n",
        "\n",
        "precisions, recalls, thresholds = precision_recall_curve(y_train_5, y_scores) # 예측값과 참값으로 예측 재현율 곡선 만듦"
      ],
      "execution_count": null,
      "outputs": []
    },
    {
      "cell_type": "code",
      "metadata": {
        "id": "InDnCiDHm3eO",
        "colab_type": "code",
        "colab": {
          "base_uri": "https://localhost:8080/",
          "height": 265
        },
        "outputId": "2a8577ed-ca02-4335-f751-daa8749d2363"
      },
      "source": [
        "%matplotlib inline\n",
        "import matplotlib.pyplot as plt\n",
        "\n",
        "def plot_precision_recall_VS_threshold(precisions, recalls, thresholds):\n",
        "\n",
        "    plt.plot(thresholds, precisions[:-1], \"b--\", label=\"정밀도\")\n",
        "    plt.plot(thresholds,recalls[:-1],\"g-\",label=\"재현율\")\n",
        "\n",
        "plot_precision_recall_VS_threshold(precisions,recalls,thresholds)\n",
        "plt.show()"
      ],
      "execution_count": null,
      "outputs": [
        {
          "output_type": "display_data",
          "data": {
            "image/png": "[encoded data removed]",
            "text/plain": [
              "<Figure size 432x288 with 1 Axes>"
            ]
          },
          "metadata": {
            "tags": [],
            "needs_background": "light"
          }
        }
      ]
    },
    {
      "cell_type": "markdown",
      "metadata": {
        "id": "GT6gqBVynuhv",
        "colab_type": "text"
      },
      "source": [
        "정밀도가 파란선, 재현율이 초록선이다. 위 그림에서 보는 바와 같이, 정밀도가 재현율보다 더 굴곡지다. 그 이유는 임곗값을 올리더라도 정밀도가 종종 낮아질 때가 있기 때문이다. (* 그 사례는 본서 p.137의 그림 3-3을 보면 이해할 수 있다.)"
      ]
    },
    {
      "cell_type": "markdown",
      "metadata": {
        "id": "tgowTYNRoV2I",
        "colab_type": "text"
      },
      "source": [
        "#### 좋은 정밀도/재현율 트레이드오프 곡선을 선택하는 방법  \n",
        "  \n",
        "재현율 곡선에서 급강하 하는 지점의 직전을 정밀도/재현율의 트레이드오프로 선택하는 것이 좋다. 아래 그림에 따른다면, 0.6 정도가 적당할 것 같다."
      ]
    },
    {
      "cell_type": "code",
      "metadata": {
        "id": "gQirr7_VosjA",
        "colab_type": "code",
        "colab": {
          "base_uri": "https://localhost:8080/",
          "height": 279
        },
        "outputId": "6251f7d6-964e-4472-edd3-9eb1266c3658"
      },
      "source": [
        "plt.plot(recalls[:-1],precisions[:-1])\n",
        "plt.xlabel('Recalls')\n",
        "plt.ylabel('Precisions')\n",
        "plt.show()"
      ],
      "execution_count": null,
      "outputs": [
        {
          "output_type": "display_data",
          "data": {
            "image/png": "[encoded data removed]",
            "text/plain": [
              "<Figure size 432x288 with 1 Axes>"
            ]
          },
          "metadata": {
            "tags": [],
            "needs_background": "light"
          }
        }
      ]
    },
    {
      "cell_type": "markdown",
      "metadata": {
        "id": "Q7lzsGS3rHDH",
        "colab_type": "text"
      },
      "source": [
        "# 3.5 ROC 곡선  \n",
        "  \n",
        "- ROC receiver operating characteristic 곡선도 **이진_분류**에서 널리 사용되는 도구다. 이것은 FPR (False Positive Rate)에 대한 TPR(재현율 True Positive Rate)의 곡선이다.   \n",
        "  \n",
        "- 더욱이, 이것은 1에서 TNR(True Negative Rate)를 뺀 값이기도 하다.  \n",
        "    \n",
        "\n",
        "$$FPR=\\frac{FP}{FP+TN}=\\frac{FP+TN-TN}{FP+TN}=1-\\frac{TN}{FP+TN}=1-TNR$$"
      ]
    },
    {
      "cell_type": "markdown",
      "metadata": {
        "id": "s7Z4-BF_sNTP",
        "colab_type": "text"
      },
      "source": [
        "[생각해보기]  \n",
        "  \n",
        "그러니까 ROC는 참인 것을 잘못 찾아내는 것에 대한 비율FPR에 대해 참인 것을 제대로 찾아내는 재현율에 대한 곡선이라는 것이네."
      ]
    },
    {
      "cell_type": "code",
      "metadata": {
        "id": "p5Bdqq5sstnP",
        "colab_type": "code",
        "colab": {}
      },
      "source": [
        "from sklearn.metrics import roc_curve\n",
        "\n",
        "fpr, tpr, thresholds = roc_curve(y_train_5, y_scores)"
      ],
      "execution_count": null,
      "outputs": []
    },
    {
      "cell_type": "code",
      "metadata": {
        "id": "fndEtTNBEAcd",
        "colab_type": "code",
        "colab": {
          "base_uri": "https://localhost:8080/",
          "height": 279
        },
        "outputId": "6720b54f-10ca-4ba1-ca81-0940947c500d"
      },
      "source": [
        "def plot_roc_curve(fpr, tpr, label=None):\n",
        "\n",
        "    plt.plot(fpr, tpr, linewidth=2, label = label)\n",
        "    plt.plot([0,1],[0,1],'k--') # 대각 점선\n",
        "    plt.xlabel('FP rate')\n",
        "    plt.ylabel('TP rate (=Recall)')\n",
        "\n",
        "plot_roc_curve(fpr,tpr)\n",
        "plt.show()"
      ],
      "execution_count": null,
      "outputs": [
        {
          "output_type": "display_data",
          "data": {
            "image/png": "[encoded data removed]",
            "text/plain": [
              "<Figure size 432x288 with 1 Axes>"
            ]
          },
          "metadata": {
            "tags": [],
            "needs_background": "light"
          }
        }
      ]
    },
    {
      "cell_type": "markdown",
      "metadata": {
        "id": "gpTaO0DaEfco",
        "colab_type": "text"
      },
      "source": [
        "- 위 그래프를 참고할 때, TPR(Recall)이 높을수록, 분류기가 만드는 FPR이 늘어난다.  \n",
        "  \n",
        "- 점선은 **Perfect_Random_Classifier**의 ROC 곡선을 뜻한다. 좋은 분류기는 이 점선에서 가능한 한 멀리 떨어져 있어야 한다."
      ]
    },
    {
      "cell_type": "markdown",
      "metadata": {
        "id": "XpixwFdeEzA7",
        "colab_type": "text"
      },
      "source": [
        "##### 어떻게 분류기들을 비교할 것인가?  \n",
        "\n",
        "AUC (Area Under the Curve)를 측정하면 여러 분류기들을 비교할 수 있다.   \n",
        "- Perfect Classifier는 ROC의 AUC = 1  \n",
        "  \n",
        "- Perfect Random Classifier는 AUC = 0.5   \n",
        "  \n",
        "(PRC는 훈련 data의 클래스 비율을 따라 randomly 예측하는 것을 뜻한다. 이것은 오차 행렬의 실제 class가 예측 class를 비슷한 비율로 나누기 때문에 FPR과 TPR이 비슷해진다. 그래서 결국 y=x 곡선에 가깝게 되어 AUC 면적이 0.5가 된다.)"
      ]
    },
    {
      "cell_type": "code",
      "metadata": {
        "id": "9LNrUDqIF6Ht",
        "colab_type": "code",
        "colab": {
          "base_uri": "https://localhost:8080/",
          "height": 34
        },
        "outputId": "92687495-f304-4321-ad13-5993578f349f"
      },
      "source": [
        "from sklearn.metrics import roc_auc_score  \n",
        "\n",
        "roc_auc_score(y_train_5, y_scores)"
      ],
      "execution_count": null,
      "outputs": [
        {
          "output_type": "execute_result",
          "data": {
            "text/plain": [
              "0.9604938554008616"
            ]
          },
          "metadata": {
            "tags": []
          },
          "execution_count": 108
        }
      ]
    },
    {
      "cell_type": "markdown",
      "metadata": {
        "id": "Bmy2UlHOGEBQ",
        "colab_type": "text"
      },
      "source": [
        "##### 언제 어떤 곡선을 사용할 것인가?  \n",
        "  \n",
        "- (Positive Class가 드물다) V (FP more important than FN) ==> PR 곡선 사용  \n",
        "> PR 곡선은 \"분류기 성능 개선 여지\"를 보여준다.  \n",
        "  \n",
        "- Otherwise ==> ROC 곡선 사용  \n",
        "    \n",
        "  \n"
      ]
    },
    {
      "cell_type": "code",
      "metadata": {
        "id": "JLGbDoOBFiwH",
        "colab_type": "code",
        "colab": {}
      },
      "source": [
        "from sklearn.ensemble import RandomForestClassifier\n",
        "\n",
        "forest_clf = RandomForestClassifier(random_state=42) # 이 포레스트clf 훈련시켜서, SGD의 ROC AUC 점수 비교해보자.\n",
        "y_probas_forest = cross_val_predict(forest_clf, X_train, y_train_5, cv=3, method=\"predict_proba\") # predict_proba() 메서드는 sample이 행, class가 열이고, <sample이 주어진 class에 속할 확률>을 담은 배열 리턴"
      ],
      "execution_count": null,
      "outputs": []
    },
    {
      "cell_type": "markdown",
      "metadata": {
        "id": "qthATrs4IeW1",
        "colab_type": "text"
      },
      "source": [
        "위의 y_probas_forest는 X_train이 y_train_5에 속할 확률을 반환하는 것 같다."
      ]
    },
    {
      "cell_type": "code",
      "metadata": {
        "id": "25q8CK_dHVYI",
        "colab_type": "code",
        "colab": {
          "base_uri": "https://localhost:8080/",
          "height": 34
        },
        "outputId": "63d8a2fc-e65b-4efb-f8c5-9e15e847daa1"
      },
      "source": [
        "print(y_probas_forest.size,y_probas_forest.shape)\n"
      ],
      "execution_count": null,
      "outputs": [
        {
          "output_type": "stream",
          "text": [
            "120000 (60000, 2)\n"
          ],
          "name": "stdout"
        }
      ]
    },
    {
      "cell_type": "markdown",
      "metadata": {
        "id": "QBubqIaOH-6W",
        "colab_type": "text"
      },
      "source": [
        "Roc_curve 는 레이블과 점수를 기대한다. 하지만 점수 대신 클래스 확률을 전달할 수 있다. 아래에서 Positive Class를 점수로 사용해보자."
      ]
    },
    {
      "cell_type": "code",
      "metadata": {
        "id": "ydMt9ed9IITM",
        "colab_type": "code",
        "colab": {}
      },
      "source": [
        "y_scores_forest = y_probas_forest[:,1]\n",
        "fpr_forest, tpr_forest,thresholds_forest = roc_curve(y_train_5, y_scores_forest)"
      ],
      "execution_count": null,
      "outputs": []
    },
    {
      "cell_type": "code",
      "metadata": {
        "id": "V08bmm3MIl1M",
        "colab_type": "code",
        "colab": {
          "base_uri": "https://localhost:8080/",
          "height": 279
        },
        "outputId": "49706657-8a28-4c41-d704-8972cace550d"
      },
      "source": [
        "plt.plot(fpr, tpr, \"b:\", label=\"SGD\")\n",
        "plot_roc_curve(fpr_forest, tpr_forest, \"Random Forest\")\n",
        "plt.legend(loc=\"lower right\")\n",
        "plt.show()"
      ],
      "execution_count": null,
      "outputs": [
        {
          "output_type": "display_data",
          "data": {
            "image/png": "[encoded data removed]",
            "text/plain": [
              "<Figure size 432x288 with 1 Axes>"
            ]
          },
          "metadata": {
            "tags": [],
            "needs_background": "light"
          }
        }
      ]
    },
    {
      "cell_type": "markdown",
      "metadata": {
        "id": "H-GG8INsJEzI",
        "colab_type": "text"
      },
      "source": [
        "전술했듯이, 왼쪽 모서리 위에 있을수록, 즉 점선 보다 더 떨어져 있을수록 좋은 분류기라고 간주된다. 그러면, 위 그림을 참고할 때, Random Forest는 SGD 보다 더 좋은 분류기라고 판단될 수 있다."
      ]
    },
    {
      "cell_type": "code",
      "metadata": {
        "id": "KpMMHeC8JNTC",
        "colab_type": "code",
        "colab": {
          "base_uri": "https://localhost:8080/",
          "height": 34
        },
        "outputId": "b636104a-0c71-4ad9-d544-994fbe3cbfdd"
      },
      "source": [
        "roc_auc_score(y_train_5, y_scores_forest) # 정밀도 점수\n"
      ],
      "execution_count": null,
      "outputs": [
        {
          "output_type": "execute_result",
          "data": {
            "text/plain": [
              "0.9983436731328145"
            ]
          },
          "metadata": {
            "tags": []
          },
          "execution_count": 118
        }
      ]
    },
    {
      "cell_type": "markdown",
      "metadata": {
        "id": "5qMP5PQVJdd3",
        "colab_type": "text"
      },
      "source": [
        "# 3.4 다중 분류 Multiclass Classifier"
      ]
    },
    {
      "cell_type": "markdown",
      "metadata": {
        "id": "5PugZCW1JgiH",
        "colab_type": "text"
      },
      "source": [
        "(1) 여러 개 클래스 직접 처리  \n",
        "  \n",
        "(2) 여러 개의 이진 분류기를 함께 사용  \n",
        "  \n",
        "- 2.1) 특정 숫자 하나만 구분하는 이진 분류기 10 개 함께 사용  \n",
        "\n",
        ">1 - 10까지 그것의 참 여부를 분류 --> 각 분류기의 결정 점수 중 the highest를 클래스로 선택. 이를 OvR (One versus the Rest)이라 함.\n",
        "  \n",
        "- 2.2) 0과1 구별, 1과2구별, ... 각 숫자의 조합마다 이진 분류기 훈련  \n",
        "\n",
        "> 이를 OvO 이라고 한다. 클래스가 N 개이면, 분류기는 $\\frac{N(N-1)}{2}$이다. 이 OvO (One - One) 전략의 **장점**은 각 분류기의 훈련에서, 전체 훈련 셋 중 구별할 2 class에 해당하는 샘플만 필요하다는 점이다. [효율적]"
      ]
    },
    {
      "cell_type": "markdown",
      "metadata": {
        "id": "pnX7E7DuLDZA",
        "colab_type": "text"
      },
      "source": [
        "##### 언제 무엇을 사용해야 하는가?  \n",
        "  \n",
        "- OvO 선호: SVM 알고리즘 같이 **훈련셋의_크기에_민감한** 것은 큰 훈련 셋에서 몇 개의 분류기를 훈련시키는 것 보다 작은 훈련 셋에서 많은 분류기를 훈련시키는 게 더 효율적이어서, OvO 선호.  \n",
        "  \n",
        "- OvR 선호: 대부분의 이진 알고리즘에서는 OvR 선호"
      ]
    },
    {
      "cell_type": "markdown",
      "metadata": {
        "id": "szn47AXnLtG_",
        "colab_type": "text"
      },
      "source": [
        "### SVM 분류기 테스트"
      ]
    },
    {
      "cell_type": "code",
      "metadata": {
        "id": "V5nrQtQ-Lx9g",
        "colab_type": "code",
        "colab": {
          "base_uri": "https://localhost:8080/",
          "height": 232
        },
        "outputId": "bc0bd507-21ba-43eb-96c0-8b5570d2d3c8"
      },
      "source": [
        "from sklearn.svm import SVC  \n",
        "import time\n",
        "\n",
        "start=time.time()\n",
        "svm_clf = SVC()\n",
        "svm_clf.fit(X_train, y_train)\n",
        "svm_clf.predict([some_digit]) # X[0]\n",
        "end=time.time()\n",
        "\n",
        "print('time: ',end-start,'sec')"
      ],
      "execution_count": null,
      "outputs": [
        {
          "output_type": "error",
          "ename": "NameError",
          "evalue": "ignored",
          "traceback": [
            "\u001b[0;31m---------------------------------------------------------------------------\u001b[0m",
            "\u001b[0;31mNameError\u001b[0m                                 Traceback (most recent call last)",
            "\u001b[0;32m<ipython-input-1-5259c578acc2>\u001b[0m in \u001b[0;36m<module>\u001b[0;34m()\u001b[0m\n\u001b[1;32m      4\u001b[0m \u001b[0mstart\u001b[0m\u001b[0;34m=\u001b[0m\u001b[0mtime\u001b[0m\u001b[0;34m.\u001b[0m\u001b[0mtime\u001b[0m\u001b[0;34m(\u001b[0m\u001b[0;34m)\u001b[0m\u001b[0;34m\u001b[0m\u001b[0;34m\u001b[0m\u001b[0m\n\u001b[1;32m      5\u001b[0m \u001b[0msvm_clf\u001b[0m \u001b[0;34m=\u001b[0m \u001b[0mSVC\u001b[0m\u001b[0;34m(\u001b[0m\u001b[0;34m)\u001b[0m\u001b[0;34m\u001b[0m\u001b[0;34m\u001b[0m\u001b[0m\n\u001b[0;32m----> 6\u001b[0;31m \u001b[0msvm_clf\u001b[0m\u001b[0;34m.\u001b[0m\u001b[0mfit\u001b[0m\u001b[0;34m(\u001b[0m\u001b[0mX_train\u001b[0m\u001b[0;34m,\u001b[0m \u001b[0my_train\u001b[0m\u001b[0;34m)\u001b[0m\u001b[0;34m\u001b[0m\u001b[0;34m\u001b[0m\u001b[0m\n\u001b[0m\u001b[1;32m      7\u001b[0m \u001b[0msvm_clf\u001b[0m\u001b[0;34m.\u001b[0m\u001b[0mpredict\u001b[0m\u001b[0;34m(\u001b[0m\u001b[0;34m[\u001b[0m\u001b[0msome_digit\u001b[0m\u001b[0;34m]\u001b[0m\u001b[0;34m)\u001b[0m \u001b[0;31m# X[0]\u001b[0m\u001b[0;34m\u001b[0m\u001b[0;34m\u001b[0m\u001b[0m\n\u001b[1;32m      8\u001b[0m \u001b[0mend\u001b[0m\u001b[0;34m=\u001b[0m\u001b[0mtime\u001b[0m\u001b[0;34m.\u001b[0m\u001b[0mtime\u001b[0m\u001b[0;34m(\u001b[0m\u001b[0;34m)\u001b[0m\u001b[0;34m\u001b[0m\u001b[0;34m\u001b[0m\u001b[0m\n",
            "\u001b[0;31mNameError\u001b[0m: name 'X_train' is not defined"
          ]
        }
      ]
    },
    {
      "cell_type": "markdown",
      "metadata": {
        "id": "tIECF1WRMKz3",
        "colab_type": "text"
      },
      "source": [
        "위 코드 진행 과정 동안에, 내부에서는 OvO 전략을 사용하여 10 개의 이진 분류기를 훈련시키고 각각의 결정 점수를 얻어서, 그들 중 가장 높은 점수를 얻는 Class를 선택한다."
      ]
    },
    {
      "cell_type": "code",
      "metadata": {
        "id": "0mhQwpw1Mi9D",
        "colab_type": "code",
        "colab": {}
      },
      "source": [
        "some_digit_scores = svm_clf.decision_function([some_digit])\n",
        "some_digit_scores"
      ],
      "execution_count": null,
      "outputs": []
    },
    {
      "cell_type": "markdown",
      "metadata": {
        "id": "4C7Zsv4GdOwa",
        "colab_type": "text"
      },
      "source": [
        "References  \n",
        "  \n",
        "[1] 오렐리앙 제롱, \"핸즈온 머신러닝\" 2판  \n",
        "\n",
        "[2] https://sumniya.tistory.com/26"
      ]
    }
  ]
}